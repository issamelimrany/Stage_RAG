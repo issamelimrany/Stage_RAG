{
 "cells": [
  {
   "cell_type": "code",
   "execution_count": 1,
   "id": "05cfdbff-1d12-4005-8395-0ad8062eeed3",
   "metadata": {},
   "outputs": [],
   "source": [
    "#!pip install langchain\n",
    "#!pip install chromadb\n",
    "#!pip install rank_bm25"
   ]
  },
  {
   "cell_type": "code",
   "execution_count": 2,
   "id": "c7ff14b0-8744-44c0-96ab-e6ffbaf5acfc",
   "metadata": {},
   "outputs": [
    {
     "name": "stderr",
     "output_type": "stream",
     "text": [
      "/home/zeus/miniconda3/envs/cloudspace/lib/python3.10/site-packages/langchain_core/_api/deprecation.py:119: LangChainDeprecationWarning: The class `OpenAIEmbeddings` was deprecated in LangChain 0.0.9 and will be removed in 0.3.0. An updated version of the class exists in the langchain-openai package and should be used instead. To use it run `pip install -U langchain-openai` and import as `from langchain_openai import OpenAIEmbeddings`.\n",
      "  warn_deprecated(\n",
      "/home/zeus/miniconda3/envs/cloudspace/lib/python3.10/site-packages/langchain_core/_api/deprecation.py:119: LangChainDeprecationWarning: The method `BaseRetriever.get_relevant_documents` was deprecated in langchain-core 0.1.46 and will be removed in 0.3.0. Use invoke instead.\n",
      "  warn_deprecated(\n",
      "Number of requested results 4 is greater than number of elements in index 3, updating n_results = 3\n"
     ]
    },
    {
     "name": "stdout",
     "output_type": "stream",
     "text": [
      "Retrieved document: AI and machine learning advancements\n",
      "Year: 2023\n",
      "\n",
      "Retrieved document: Quantum computing breakthroughs\n",
      "Year: 2024\n",
      "\n"
     ]
    }
   ],
   "source": [
    "from langchain.retrievers import EnsembleRetriever\n",
    "from langchain.embeddings import OpenAIEmbeddings\n",
    "from langchain.vectorstores import Chroma\n",
    "from langchain.retrievers import BM25Retriever\n",
    "from langchain.schema import Document\n",
    "import os \n",
    "\n",
    "#openai key \n",
    "os.environ['OPENAI_API_KEY'] = 'you code'\n",
    "\n",
    "# Initialize components\n",
    "embeddings = OpenAIEmbeddings()\n",
    "vectorstore = Chroma(embedding_function=embeddings)\n",
    "\n",
    "# docu\n",
    "documents = [\n",
    "    Document(page_content=\"AI and machine learning advancements\", metadata={\"year\": 2023}),\n",
    "    Document(page_content=\"Climate change effects on biodiversity\", metadata={\"year\": 2022}),\n",
    "    Document(page_content=\"Quantum computing breakthroughs\", metadata={\"year\": 2024}),\n",
    "]\n",
    "\n",
    "# Add documents to vectorstore and create BM25 index\n",
    "vectorstore.add_documents(documents)\n",
    "bm25_retriever = BM25Retriever.from_documents(documents)\n",
    "\n",
    "# Create ensemble retriever\n",
    "ensemble_retriever = EnsembleRetriever(\n",
    "    retrievers=[vectorstore.as_retriever(), bm25_retriever],\n",
    "    weights=[0.5, 0.5]\n",
    ")\n",
    "\n",
    "# Define a filter function\n",
    "def year_filter(doc):\n",
    "    return doc.metadata[\"year\"] >= 2023\n",
    "\n",
    "# Perform hybrid search with filter\n",
    "query = \"Recent advancements in technology\"\n",
    "raw_docs = ensemble_retriever.get_relevant_documents(query)\n",
    "filtered_docs = list(filter(year_filter, raw_docs))\n",
    "\n",
    "for doc in filtered_docs:\n",
    "    print(f\"Retrieved document: {doc.page_content}\")\n",
    "    print(f\"Year: {doc.metadata['year']}\")\n",
    "    print()"
   ]
  }
 ],
 "metadata": {
  "kernelspec": {
   "display_name": "Python 3",
   "language": "python",
   "name": "python3"
  },
  "language_info": {
   "codemirror_mode": {
    "name": "ipython",
    "version": 3
   },
   "file_extension": ".py",
   "mimetype": "text/x-python",
   "name": "python",
   "nbconvert_exporter": "python",
   "pygments_lexer": "ipython3",
   "version": "3.10.10"
  }
 },
 "nbformat": 4,
 "nbformat_minor": 5
}
