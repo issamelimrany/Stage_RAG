{
 "cells": [
  {
   "cell_type": "code",
   "execution_count": 16,
   "id": "c4316d52-2be7-4606-85de-3ba78ff74ded",
   "metadata": {},
   "outputs": [
    {
     "name": "stdout",
     "output_type": "stream",
     "text": [
      "Retrieved document: Renewable energy sources like wind, solar, and hydroelectric power have various environmental impact...\n",
      "\n",
      "Retrieved document: Renewable energy sources like wind, solar, and hydroelectric power have various environmental impact...\n",
      "\n",
      "Retrieved document: Renewable energy sources like wind, solar, and hydroelectric power have various environmental impact...\n",
      "\n",
      "Retrieved document: Renewable energy reduces reliance on fossil fuels, decreasing greenhouse gas emissions and mitigatin...\n",
      "\n",
      "Retrieved document: Renewable energy reduces reliance on fossil fuels, decreasing greenhouse gas emissions and mitigatin...\n",
      "\n"
     ]
    }
   ],
   "source": [
    "from langchain.embeddings import OpenAIEmbeddings\n",
    "from langchain.vectorstores import Chroma\n",
    "from langchain.chat_models import ChatOpenAI\n",
    "from langchain.chains import LLMChain\n",
    "from langchain.prompts import PromptTemplate\n",
    "from langchain.schema import Document\n",
    "\n",
    "import os\n",
    "\n",
    "# Set OpenAI API key\n",
    "os.environ['OPENAI_API_KEY'] = 'you code'\n",
    "\n",
    "# Initialize components\n",
    "embeddings = OpenAIEmbeddings()\n",
    "vectorstore = Chroma(embedding_function=embeddings)\n",
    "llm = ChatOpenAI(temperature=0)\n",
    "\n",
    "# Populate the vector store with some documents\n",
    "documents = [\n",
    "    Document(page_content = \"Renewable energy sources like wind, solar, and hydroelectric power have various environmental impacts. These impacts can be both positive and negative. For instance, wind turbines can affect bird migration patterns, while solar farms can alter local ecosystems.\"),\n",
    "    Document(page_content = \"Renewable energy reduces reliance on fossil fuels, decreasing greenhouse gas emissions and mitigating climate change. However, the production and disposal of renewable energy infrastructure can result in environmental challenges, including resource depletion and waste generation.\"),\n",
    "    Document(page_content = \"The transition to renewable energy is essential for sustainable development, providing long-term benefits for the environment. Nonetheless, careful planning and management are required to minimize adverse effects on wildlife, water resources, and land use.\"),\n",
    "]\n",
    "\n",
    "# Add documents to the vector store\n",
    "vectorstore.add_documents(documents)\n",
    "\n",
    "# Create a prompt for generating hypothetical documents\n",
    "hyde_prompt = PromptTemplate(\n",
    "    input_variables=[\"question\"],\n",
    "    template=\"Given the question '{question}', generate a hypothetical passage that would answer this question:\"\n",
    ")\n",
    "\n",
    "# Create an LLMChain for generating hypothetical documents\n",
    "hyde_chain = LLMChain(llm=llm, prompt=hyde_prompt)\n",
    "\n",
    "# Function to perform RAG HyDE\n",
    "def rag_hyde(query):\n",
    "    # Generate hypothetical document\n",
    "    hypothetical_doc = hyde_chain.run(question=query)\n",
    "    #print(f\"Hypothetical Document: {hypothetical_doc}\")\n",
    "    \n",
    "    # Embed and search using the hypothetical document\n",
    "    hypothetical_embedding = embeddings.embed_query(hypothetical_doc)\n",
    "    #print(f\"Hypothetical Embedding: {hypothetical_embedding}\")\n",
    "    \n",
    "    results = vectorstore.similarity_search_by_vector(hypothetical_embedding, k=5)\n",
    "    #print(f\"Search Results: {results}\")\n",
    "    \n",
    "    return results\n",
    "\n",
    "# Perform a query\n",
    "query = \"What are the environmental impacts of renewable energy?\"\n",
    "hyde_results = rag_hyde(query)\n",
    "\n",
    "for doc in hyde_results:\n",
    "    print(f\"Retrieved document: {doc.page_content[:100]}...\")\n",
    "    print()\n"
   ]
  }
 ],
 "metadata": {
  "kernelspec": {
   "display_name": "Python 3",
   "language": "python",
   "name": "python3"
  },
  "language_info": {
   "codemirror_mode": {
    "name": "ipython",
    "version": 3
   },
   "file_extension": ".py",
   "mimetype": "text/x-python",
   "name": "python",
   "nbconvert_exporter": "python",
   "pygments_lexer": "ipython3",
   "version": "3.10.10"
  }
 },
 "nbformat": 4,
 "nbformat_minor": 5
}
