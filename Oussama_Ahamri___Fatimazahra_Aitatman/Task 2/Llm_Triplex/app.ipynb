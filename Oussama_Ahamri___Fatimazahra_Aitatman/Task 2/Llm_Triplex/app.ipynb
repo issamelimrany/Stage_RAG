{
 "cells": [
  {
   "cell_type": "markdown",
   "metadata": {},
   "source": [
    "Importation des modules nécessaires"
   ]
  },
  {
   "cell_type": "code",
   "execution_count": 81,
   "metadata": {},
   "outputs": [],
   "source": [
    "from langchain_community.document_loaders import PDFPlumberLoader\n",
    "from langchain_experimental.text_splitter import SemanticChunker\n",
    "from langchain_community.embeddings import HuggingFaceEmbeddings\n",
    "from langchain_community.vectorstores import FAISS\n",
    "from langchain_community.llms import Ollama\n",
    "from langchain.prompts import PromptTemplate\n",
    "from langchain.chains.llm import LLMChain\n",
    "from langchain.chains.combine_documents.stuff import StuffDocumentsChain\n",
    "from transformers import AutoModelForCausalLM, AutoTokenizer\n",
    "from langchain.chains import RetrievalQA\n",
    "from langchain_community.document_loaders import TextLoader\n",
    "from pypdf import PdfReader\n",
    "import ollama\n",
    "import gradio as gr\n",
    "import os\n",
    "import json\n",
    "import ollama"
   ]
  },
  {
   "cell_type": "code",
   "execution_count": 82,
   "metadata": {},
   "outputs": [
    {
     "data": {
      "text/plain": [
       "{'status': 'success'}"
      ]
     },
     "execution_count": 82,
     "metadata": {},
     "output_type": "execute_result"
    }
   ],
   "source": [
    "# Assurez-vous que vous avez installé et configuré correctement ollama\n",
    "ollama.pull(\"sciphi/triplex\")"
   ]
  },
  {
   "cell_type": "markdown",
   "metadata": {},
   "source": [
    "fonction crée une invite structurée (prompt) pour le modèle \"sciphi/triplex\" et génère une réponse basée sur l'entité et les prédicats spécifiés."
   ]
  },
  {
   "cell_type": "code",
   "execution_count": 83,
   "metadata": {},
   "outputs": [],
   "source": [
    "def triplextract(text, entity_types, predicates):\n",
    "\n",
    "    input_format = \"\"\"Perform Named Entity Recognition (NER) and extract knowledge graph triplets from the text. NER identifies named entities of given entity types, and triple extraction identifies relationships between entities using specified predicates.\n",
    "\n",
    "        **Entity Types:**\n",
    "        {entity_types}\n",
    "\n",
    "        **Predicates:**\n",
    "        {predicates}\n",
    "\n",
    "        **Text:**\n",
    "        {text}\n",
    "        \"\"\"\n",
    "\n",
    "    message = input_format.format(\n",
    "                entity_types = json.dumps({\"entity_types\": entity_types}),\n",
    "                predicates = json.dumps({\"predicates\": predicates}),\n",
    "                text = text)\n",
    "\n",
    "    # Pass the message as a single string\n",
    "    prompt = message\n",
    "    output = ollama.generate(model='sciphi/triplex', prompt=prompt)\n",
    "    return output"
   ]
  },
  {
   "cell_type": "markdown",
   "metadata": {},
   "source": [
    "Cette section lit un fichier PDF et extrait le texte de chaque page, le concaténant dans une seule chaîne de caractères, et passe le texte extrait à la fonction triplextract, traite la réponse JSON pour en extraire les entités et les triples"
   ]
  },
  {
   "cell_type": "code",
   "execution_count": 84,
   "metadata": {},
   "outputs": [],
   "source": [
    "entity_types = [\"PERSON\", \"DATE\", \"LOCATION\", \"ORGANIZATION\", \"WORK\", \"CONCEPT\"]\n",
    "predicates = [\"BORN_ON\", \"DIED_ON\", \"LOCATED_IN\", \"WORKED_AT\", \"MAJOR_CONTRIBUTIONS\", \"DISCOVERED\", \"HELD_POSITIONS\"]\n",
    "\n",
    "reader = PdfReader(\"data/bibliographie.pdf\")\n",
    "text = \"\"\n",
    "for page in reader.pages:\n",
    "    text += page.extract_text() + \"\\n\"\n",
    "prediction = triplextract(text, entity_types, predicates)\n",
    "\n",
    "response_string = prediction['response'].strip('```json\\n').strip()\n",
    "response_string = response_string.lstrip('\\n')\n",
    "response_string = response_string.strip('```')\n",
    "response_string = response_string.replace('```', '')\n",
    "response_string = response_string.replace(\"json\", \"\")\n",
    "response_json = json.loads(response_string)\n",
    "entities_and_triples = response_json['entities_and_triples']"
   ]
  },
  {
   "cell_type": "markdown",
   "metadata": {},
   "source": [
    "Le texte extrait est écrit dans un fichier output.txt, puis chargé à l'aide de TextLoader."
   ]
  },
  {
   "cell_type": "code",
   "execution_count": 85,
   "metadata": {},
   "outputs": [],
   "source": [
    "with open('output.txt', 'w', encoding='utf-8') as f:\n",
    "    f.write(text)\n",
    "\n",
    "loader = TextLoader(\"./output.txt\")\n",
    "docs = loader.load()"
   ]
  },
  {
   "cell_type": "markdown",
   "metadata": {},
   "source": [
    "Le texte est divisé en chunks sémantiques, les embeddings sont générés à l'aide de HuggingFaceEmbeddings, et ces embeddings sont stockés dans un index FAISS pour une récupération rapide."
   ]
  },
  {
   "cell_type": "code",
   "execution_count": 86,
   "metadata": {},
   "outputs": [],
   "source": [
    "# Split into chunks\n",
    "text_splitter = SemanticChunker(HuggingFaceEmbeddings())\n",
    "documents = text_splitter.split_documents(docs)\n",
    "\n",
    "# Instantiate the embedding model\n",
    "embedder = HuggingFaceEmbeddings()\n",
    "\n",
    "# Create the vector store and fill it with embeddings\n",
    "vector = FAISS.from_documents(documents, embedder)\n",
    "retriever = vector.as_retriever(search_type=\"similarity\", search_kwargs={\"k\": 3})"
   ]
  },
  {
   "cell_type": "markdown",
   "metadata": {},
   "source": [
    "Cette section définit le modèle LLM et le prompt pour les questions-réponses."
   ]
  },
  {
   "cell_type": "code",
   "execution_count": 87,
   "metadata": {},
   "outputs": [],
   "source": [
    "# Define llm\n",
    "llm = Ollama(model=\"mistral\")\n",
    "\n",
    "# Define the prompt\n",
    "prompt = \"\"\"\n",
    "    1. Use the following pieces of context to answer the question at the end.\n",
    "    2. If you don't know the answer, just say that \"I don't know\" but don't make up an answer on your own.\\n\n",
    "    3. Keep the answer crisp and limited to 3,4 sentences.\n",
    "\n",
    "    Context: {context}\n",
    "\n",
    "    Question: {question}\n",
    "\n",
    "    Helpful Answer:\"\"\"\n",
    "\n",
    "QA_CHAIN_PROMPT = PromptTemplate.from_template(prompt)"
   ]
  },
  {
   "cell_type": "markdown",
   "metadata": {},
   "source": [
    "une chaîne LLM est créée pour traiter les prompts, et une chaîne de combinaison de documents est définie pour intégrer le contexte des documents."
   ]
  },
  {
   "cell_type": "code",
   "execution_count": 88,
   "metadata": {},
   "outputs": [],
   "source": [
    "llm_chain = LLMChain(\n",
    "                    llm=llm, \n",
    "                    prompt=QA_CHAIN_PROMPT, \n",
    "                    callbacks=None, \n",
    "                    verbose=True)\n",
    "\n",
    "document_prompt = PromptTemplate(\n",
    "        input_variables=[\"page_content\", \"source\"],\n",
    "        template=\"Context:\\ncontent:{page_content}\\nsource:{source}\",\n",
    ")\n",
    "\n",
    "combine_documents_chain = StuffDocumentsChain(\n",
    "                    llm_chain=llm_chain,\n",
    "                    document_variable_name=\"context\",\n",
    "                    document_prompt=document_prompt,\n",
    "                    callbacks=None)"
   ]
  },
  {
   "cell_type": "markdown",
   "metadata": {},
   "source": [
    "Cette section configure la chaîne de questions-réponses (RetrievalQA) et définit une fonction de réponse pour répondre aux questions des utilisateurs."
   ]
  },
  {
   "cell_type": "code",
   "execution_count": 89,
   "metadata": {},
   "outputs": [],
   "source": [
    "                \n",
    "qa = RetrievalQA(\n",
    "                combine_documents_chain=combine_documents_chain,\n",
    "                verbose=True,\n",
    "                retriever=retriever,\n",
    "                return_source_documents=True)\n",
    "\n",
    "def respond(question, history):\n",
    "        return qa(question)[\"result\"]"
   ]
  },
  {
   "cell_type": "markdown",
   "metadata": {},
   "source": [
    "Cette section configure et lance une interface utilisateur avec Gradio, permettant aux utilisateurs d'interagir avec le chatbot."
   ]
  },
  {
   "cell_type": "code",
   "execution_count": 90,
   "metadata": {},
   "outputs": [
    {
     "name": "stdout",
     "output_type": "stream",
     "text": [
      "Caching examples at: 'C:\\Users\\DELL\\Downloads\\triplex\\gradio_cached_examples\\82'\n",
      "Caching example 1/2\n",
      "\n",
      "\n",
      "\u001b[1m> Entering new RetrievalQA chain...\u001b[0m\n",
      "\n",
      "\n",
      "\u001b[1m> Entering new LLMChain chain...\u001b[0m\n",
      "Prompt after formatting:\n",
      "\u001b[32;1m\u001b[1;3m\n",
      "    1. Use the following pieces of context to answer the question at the end.\n",
      "    2. If you don't know the answer, just say that \"I don't know\" but don't make up an answer on your own.\n",
      "\n",
      "    3. Keep the answer crisp and limited to 3,4 sentences.\n",
      "\n",
      "    Context: Context:\n",
      "content:Isaac Newton, born on December 25, 1642 (according to the Julian calendar then in use in England) in \n",
      "Woolsthorpe, Lincolnshire, and died on March 20, 1727, in London, is one of the most influential scientists in \n",
      "history. His major contributions to physics,  mathematics, and astronomy laid the foundations of modern science \n",
      "and profoundly transformed our understanding of the natural world. Childhood and Education  \n",
      "Isaac Newton was born prematurely into a family of farmers. His father, also named Isaac Newton, d ied three \n",
      "months before his birth, and his mother, Hannah Ayscough Newton, remarried when Isaac was three years old, \n",
      "leaving him in the care of his grandmother. A solitary child, Newton showed an insatiable curiosity about the \n",
      "world around him from a young  age. He began his schooling at the village school in Grantham, where he showed exceptional talent for mathematics. At 18, he entered Trinity College at the University of Cambridge, where he was deeply influenced by the works \n",
      "of philosophers and scientists  like RenÃ© Descartes, Galileo Galilei, and Johannes Kepler. Plague Years and Discoveries  \n",
      "In 1665, an outbreak of the plague forced the University of Cambridge to close, and Newton returned to \n",
      "Woolsthorpe for two years. These years, often called the \"miracu lous years,\" were among the most productive \n",
      "of his life. During this period, Newton made revolutionary discoveries in mathematics, optics, and gravitation. He developed calculus independently but simultaneously with German mathematician Gottfried Wilhelm \n",
      "Leibniz, leading to a controversy over the authorship of this discovery. Newton also conducted experiments on \n",
      "light and colors, demonstrating that white light is composed of a spectrum of colors, which led to his major \n",
      "work on optics, \"Opticks\" (1704). Prin cipia Mathematica  \n",
      "Newton's most famous contribution is undoubtedly his work \"PhilosophiÃ¦ Naturalis Principia Mathematica\" \n",
      "(1687), often abbreviated as \"Principia.\" In this book, Newton states the three laws of motion that became the \n",
      "basis of classical mech anics:  \n",
      "1. The law of inertia: A body at rest remains at rest, and a body in motion continues to move at a constant velocity \n",
      "in a straight line unless acted upon by an external force.\n",
      "source:./output.txt\n",
      "\n",
      "Context:\n",
      "content:2. The fundamental law of dynamics: The acc eleration of an object is proportional to the net force acting on it and \n",
      "inversely proportional to its mass (F = ma). 3. The law of action and reaction: For every action, there is an equal and opposite reaction. In \"Principia,\" Newton also formulates the law of universal gravitation, which states that every particle of \n",
      "matter in the universe attracts every other particle with a force directly proportional to the product of their \n",
      "masses and inversely proportional to the square of the distance between them. This  law explained not only the \n",
      "movements of planets and celestial objects but also terrestrial phenomena like the fall of bodies. Contributions to Optics  \n",
      "In addition to his work in mechanics and gravitation, Newton made significant contributions to optics. He  \n",
      "showed that white light is composed of all the colors of the visible spectrum, which he discovered using a prism \n",
      "to decompose sunlight. These experiments refuted the dominant idea of the time that white light was pure and \n",
      "simple. His work \"Opticks\" explor es the nature of light and color, as well as the refraction, reflection, and dispersion of \n",
      "light. Newton also invented the reflecting telescope, or Newtonian telescope, which uses a concave mirror \n",
      "instead of lenses to reduce chromatic aberrations and impro ve image quality. Later Years and Legacy  \n",
      "In 1696, Newton was appointed Warden of the Royal Mint, and three years later, he became Master of the Mint. In this role, he oversaw a major monetary reform and fought against counterfeiting, sometimes using very \n",
      "rigorous means to pursue forgers. Newton also became president of the Royal Society in 1703, a position he held until his death. He was knighted \n",
      "by Queen Anne in 1705, becoming Sir Isaac Newton. Newton spent his later years in London, where he continued to work on his research and correspond with other \n",
      "scientists. He died on March 20, 1727, and was buried in Westminster Abbey, a rare honor for a scientist. Newton's legacy is immense. His laws of motion and law of universal gravitation dominated the scientifi c view \n",
      "of the physical world until the advent of Albert Einstein's theory of relativity. His work in optics laid the \n",
      "foundations for the physics of colors and the wave theory of light. In mathematics, calculus became a \n",
      "fundamental tool for many scientific and engineering disciplines. Isaac Newton not only transformed our understanding of the universe but also established a rigorous scientific \n",
      "method that continues to guide scientific research today. Albert Einstein, born on March 14, 1879, in Ulm, in the Kingdom of WÃ¼rttemberg in Germany, and died on \n",
      "April 18, 1955, in Princeton, New Jersey, USA, is one of the most influential and renowned theoretical \n",
      "physicists in history. His work revolutionized our understanding of phys ics, particularly with the theory of \n",
      "relativity, and profoundly influenced science and philosophy in the 20th century. Childhood and Education  \n",
      "Einstein was born into a non -practicing Jewish family. His father, Hermann Einstein, was a salesman and \n",
      "engineer,  and his mother, Pauline Koch, was an accomplished musician. From a young age, Einstein showed \n",
      "exceptional curiosity and talent for mathematics and physics. In 1889, the Einstein family moved to Munich, where Albert attended the Luitpold Gymnasium. However , he \n",
      "was unhappy at school, where he often felt stifled by the strict and rigid teaching. In 1894, the family moved \n",
      "again, this time to Pavia, Italy, but Einstein stayed in Germany to finish his studies. In 1895, he left school \n",
      "without a diploma and joined  his parents in Italy. Formative Years and Early Work  \n",
      "In 1896, Einstein entered the Swiss Federal Polytechnic School (ETH Zurich) after passing an entrance exam. There, he focused on physics and mathematics. It was at the ETH that he met his future wife, Mileva MariÄ‡, a \n",
      "fellow physics student. After graduatin g in 1900, Einstein struggled to find an academic position and accepted a job at the Patent Office \n",
      "in Bern, Switzerland, in 1902. This job gave him the time to develop his own scientific ideas.\n",
      "source:./output.txt\n",
      "\n",
      "Context:\n",
      "content:He held academic positions in Switzerland, Germany, and the \n",
      "United States. In 1933, due to the rise of Nazism in Germany, Einstein left his position at the Universi ty of \n",
      "Berlin and emigrated to the United States, where he accepted a position at the Institute for Advanced Study in \n",
      "Princeton. Einstein was also a fervent advocate for peace and civil rights. He used his fame to speak out against militarism, \n",
      "nationalism, and racial discrimination. He was a committed pacifist, although he supported the development of \n",
      "the atomic bomb during World War II out of fear that Nazi Germany would develop it first. Later Years and Legacy  \n",
      "Einstein spent his later years in Princeton, w here he continued to work on a unified field theory, an attempt to \n",
      "reconcile general relativity and quantum mechanics. Although this unified theory was not realized in his \n",
      "lifetime, his efforts inspired much subsequent research. He died on April 18, 1955, at the age of 76. His legacy endures through his numerous contributions to science \n",
      "and society. The theory of relativity transformed our understanding of the universe, influencing not only physics \n",
      "but also philosophy, cosmology, and engineering sciences. H is work on the photoelectric effect was essential to \n",
      "the development of quantum mechanics, and his equation E=mcÂ² remains one of the most famous and \n",
      "significant formulas in physics. Einstein is also known for his profound thoughts on the nature of reality,  knowledge, and creativity. He left \n",
      "behind a rich collection of scientific and philosophical writings that continue to inspire researchers and thinkers \n",
      "worldwide. \n",
      "source:./output.txt\n",
      "\n",
      "    Question: When did Isaac Newton die?\n",
      "\n",
      "    Helpful Answer:\u001b[0m\n",
      "\n",
      "\u001b[1m> Finished chain.\u001b[0m\n",
      "\n",
      "\u001b[1m> Finished chain.\u001b[0m\n",
      "Caching example 2/2\n",
      "\n",
      "\n",
      "\u001b[1m> Entering new RetrievalQA chain...\u001b[0m\n",
      "\n",
      "\n",
      "\u001b[1m> Entering new LLMChain chain...\u001b[0m\n",
      "Prompt after formatting:\n",
      "\u001b[32;1m\u001b[1;3m\n",
      "    1. Use the following pieces of context to answer the question at the end.\n",
      "    2. If you don't know the answer, just say that \"I don't know\" but don't make up an answer on your own.\n",
      "\n",
      "    3. Keep the answer crisp and limited to 3,4 sentences.\n",
      "\n",
      "    Context: Context:\n",
      "content:He held academic positions in Switzerland, Germany, and the \n",
      "United States. In 1933, due to the rise of Nazism in Germany, Einstein left his position at the Universi ty of \n",
      "Berlin and emigrated to the United States, where he accepted a position at the Institute for Advanced Study in \n",
      "Princeton. Einstein was also a fervent advocate for peace and civil rights. He used his fame to speak out against militarism, \n",
      "nationalism, and racial discrimination. He was a committed pacifist, although he supported the development of \n",
      "the atomic bomb during World War II out of fear that Nazi Germany would develop it first. Later Years and Legacy  \n",
      "Einstein spent his later years in Princeton, w here he continued to work on a unified field theory, an attempt to \n",
      "reconcile general relativity and quantum mechanics. Although this unified theory was not realized in his \n",
      "lifetime, his efforts inspired much subsequent research. He died on April 18, 1955, at the age of 76. His legacy endures through his numerous contributions to science \n",
      "and society. The theory of relativity transformed our understanding of the universe, influencing not only physics \n",
      "but also philosophy, cosmology, and engineering sciences. H is work on the photoelectric effect was essential to \n",
      "the development of quantum mechanics, and his equation E=mcÂ² remains one of the most famous and \n",
      "significant formulas in physics. Einstein is also known for his profound thoughts on the nature of reality,  knowledge, and creativity. He left \n",
      "behind a rich collection of scientific and philosophical writings that continue to inspire researchers and thinkers \n",
      "worldwide. \n",
      "source:./output.txt\n",
      "\n",
      "Context:\n",
      "content:2. Brownian Motion: He explained the random motion of particles suspended in a fluid, providing experimental \n",
      "evidence for atomic theory. 3. Special Relativity: This paper introduced the theory of special rel ativity, demonstrating that the laws of physics \n",
      "are the same for all observers in uniform motion and that the speed of light is constant in all inertial frames. 4. E=mcÂ²: In this paper, Einstein established the equivalence of mass and energy, expressed by the  famous \n",
      "equation E=mcÂ², indicating that mass can be converted into energy and vice versa. General Theory of Relativity  \n",
      "In 1915, after years of intense work, Einstein presented his general theory of relativity to the Prussian Academy \n",
      "of Sciences. This theor y extended special relativity to include gravitation as a curvature of space -time caused by \n",
      "mass. The theory was confirmed in 1919 when observations of a solar eclipse showed the deflection of starlight \n",
      "by the Sun's gravitational field, as predicted by the  theory. Years of Fame and Social Activities  \n",
      "Einstein quickly became a worldwide celebrity.\n",
      "source:./output.txt\n",
      "\n",
      "Context:\n",
      "content:In his spare time, \n",
      "he worked on theories that would revolution ize physics. Annus Mirabilis (Miraculous Year) of 1905  \n",
      "The year 1905, often called the \"Annus Mirabilis\" or \"Miraculous Year,\" was an extraordinary year for Einstein. He published four groundbreaking papers in the scientific journal \"Annalen der Physik,\" e ach having a major \n",
      "impact on physics:  \n",
      "1. Photoelectric Effect: In this paper, Einstein proposed that light is composed of quanta (later called photons) and \n",
      "explained the photoelectric effect, for which he received the Nobel Prize in Physics in 1921. This work  was \n",
      "crucial for the development of quantum mechanics.\n",
      "source:./output.txt\n",
      "\n",
      "    Question: What were the key events and influences in Einstein's early education?\n",
      "\n",
      "    Helpful Answer:\u001b[0m\n",
      "\n",
      "\u001b[1m> Finished chain.\u001b[0m\n",
      "\n",
      "\u001b[1m> Finished chain.\u001b[0m\n",
      "Running on local URL:  http://127.0.0.1:7864\n",
      "Running on public URL: https://db7fac19da931e720a.gradio.live\n",
      "\n",
      "This share link expires in 72 hours. For free permanent hosting and GPU upgrades, run `gradio deploy` from Terminal to deploy to Spaces (https://huggingface.co/spaces)\n"
     ]
    },
    {
     "data": {
      "text/html": [
       "<div><iframe src=\"https://db7fac19da931e720a.gradio.live\" width=\"100%\" height=\"500\" allow=\"autoplay; camera; microphone; clipboard-read; clipboard-write;\" frameborder=\"0\" allowfullscreen></iframe></div>"
      ],
      "text/plain": [
       "<IPython.core.display.HTML object>"
      ]
     },
     "metadata": {},
     "output_type": "display_data"
    },
    {
     "data": {
      "text/plain": []
     },
     "execution_count": 90,
     "metadata": {},
     "output_type": "execute_result"
    }
   ],
   "source": [
    "gr.ChatInterface(\n",
    "        respond,\n",
    "        chatbot=gr.Chatbot(height=500),\n",
    "        textbox=gr.Textbox(placeholder=\"Ask me question related to Document \", container=False, scale=7),\n",
    "        title=\"RAG Chatbot\",\n",
    "        examples=[\"When did Isaac Newton die?\", \"What were the key events and influences in Einstein's early education?\"],\n",
    "        cache_examples=True,\n",
    "        retry_btn=None,\n",
    "    ).launch(share=True)"
   ]
  }
 ],
 "metadata": {
  "kernelspec": {
   "display_name": ".venv",
   "language": "python",
   "name": "python3"
  },
  "language_info": {
   "codemirror_mode": {
    "name": "ipython",
    "version": 3
   },
   "file_extension": ".py",
   "mimetype": "text/x-python",
   "name": "python",
   "nbconvert_exporter": "python",
   "pygments_lexer": "ipython3",
   "version": "3.11.4"
  }
 },
 "nbformat": 4,
 "nbformat_minor": 2
}
